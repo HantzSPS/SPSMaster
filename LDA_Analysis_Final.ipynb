{
 "cells": [
  {
   "cell_type": "code",
   "execution_count": 3,
   "metadata": {},
   "outputs": [
    {
     "name": "stderr",
     "output_type": "stream",
     "text": [
      "Using TensorFlow backend.\n"
     ]
    }
   ],
   "source": [
    "import numpy as np \n",
    "\n",
    "import os\n",
    "\n",
    "import cv2\n",
    "from PIL import Image\n",
    "from skimage import io\n",
    "import scipy\n",
    "from sklearn.model_selection import train_test_split\n",
    "import matplotlib.pyplot as plt\n",
    "from sklearn.preprocessing import LabelEncoder\n",
    "from sklearn.neighbors import KNeighborsClassifier\n",
    "\n",
    "from keras.utils import np_utils"
   ]
  },
  {
   "cell_type": "code",
   "execution_count": 4,
   "metadata": {},
   "outputs": [],
   "source": [
    "\n",
    "opencv_haar_path = \"/home/hantz_angrand72/master620/opencv/data/haarcascades/haarcascade_frontalface_default.xml\"\n",
    "\n",
    "\n",
    "\n",
    "\n",
    "\n",
    "def create_data_set(x_crop= 150, y_crop=150, train_size=.8): \n",
    "\n",
    "    \"\"\" Load the Yale Faces data set, extract the faces on the images and generate labels for each image.\n",
    "\n",
    "        \n",
    "\n",
    "        Returns: Train and validation samples with their labels. The training samples are flattened arrays \n",
    "\n",
    "        of size 22500 (150 * 150) , the labels are one-hot-encoded values for each category\n",
    "\n",
    "    \"\"\"\n",
    "\n",
    "    images_path = [ os.path.join(\"yalefaces\", item)  for item in  os.listdir(\"yalefaces\") ]\n",
    "\n",
    "    image_data = []\n",
    "\n",
    "    image_labels = []\n",
    "\n",
    "    \n",
    "\n",
    "    for i,im_path in enumerate(images_path):\n",
    "\n",
    "        im = io.imread(im_path,0)\n",
    "\n",
    "#        if( i== 10) or (i==40) or (i==50):\n",
    "\n",
    "#            io.imshow(im)\n",
    "\n",
    "#            io.show()\n",
    "\n",
    "        image_data.append(np.array(im, dtype='uint8'))\n",
    "\n",
    "        \n",
    "\n",
    "        \n",
    "\n",
    "        \n",
    "\n",
    "        label = int(os.path.split(im_path)[1].split(\".\")[0].replace(\"subject\", \"\"))  -1\n",
    "\n",
    "       \n",
    "\n",
    "            \n",
    "\n",
    "        image_labels.append(label)\n",
    "\n",
    "    faceDetectClassifier = cv2.CascadeClassifier(opencv_haar_path)\n",
    "\n",
    "    \n",
    "\n",
    "    cropped_faces = []\n",
    "\n",
    "    for im in image_data:\n",
    "\n",
    "        facePoints = faceDetectClassifier.detectMultiScale(im)\n",
    "\n",
    "        x,y = facePoints[0][:2]\n",
    "\n",
    "        cropped = im[y: y + y_crop, x: x + x_crop]\n",
    "\n",
    "        cropped_faces.append(cropped/255)\n",
    "\n",
    "        \n",
    "\n",
    "    X_ = np.array(cropped_faces).astype('float32')\n",
    "\n",
    "    enc = LabelEncoder()\n",
    "\n",
    "    y_ = enc.fit_transform(np.array(image_labels))\n",
    "\n",
    "    y_ = np_utils.to_categorical(y_)\n",
    "\n",
    "   \n",
    "    X_train, X_test, y_train, y_test = train_test_split(X_, y_, train_size=train_size, random_state = 22)\n",
    "    #return X_train, X_test, y_train, y_test\n",
    "    return (X_train).reshape((X_train.shape[0],X_train.shape[1]*X_train.shape[2])), (X_test).reshape((X_test.shape[0],X_test.shape[1]*X_test.shape[2])), (y_train).reshape((y_train.shape[0]*y_train.shape[1]),1), (y_test).reshape((y_test.shape[0]*y_test.shape[1]),1)"
   ]
  },
  {
   "cell_type": "code",
   "execution_count": 5,
   "metadata": {},
   "outputs": [],
   "source": [
    "\n",
    "X_train, X_test, y_train, y_test  = create_data_set()"
   ]
  },
  {
   "cell_type": "code",
   "execution_count": 6,
   "metadata": {},
   "outputs": [
    {
     "name": "stdout",
     "output_type": "stream",
     "text": [
      "(132, 22500) 2970000\n"
     ]
    }
   ],
   "source": [
    "print(np.shape(X_train), np.size(X_train))"
   ]
  },
  {
   "cell_type": "code",
   "execution_count": 7,
   "metadata": {},
   "outputs": [
    {
     "name": "stdout",
     "output_type": "stream",
     "text": [
      "(1980, 1) 1980\n"
     ]
    }
   ],
   "source": [
    "print(np.shape(y_train), np.size(y_train))"
   ]
  },
  {
   "cell_type": "code",
   "execution_count": 8,
   "metadata": {},
   "outputs": [
    {
     "name": "stdout",
     "output_type": "stream",
     "text": [
      "(510, 1) 510\n"
     ]
    }
   ],
   "source": [
    "print(np.shape(y_test), np.size(y_test))"
   ]
  },
  {
   "cell_type": "code",
   "execution_count": 9,
   "metadata": {},
   "outputs": [
    {
     "name": "stdout",
     "output_type": "stream",
     "text": [
      "(34, 22500) 510\n"
     ]
    }
   ],
   "source": [
    "print(np.shape(X_test), np.size(y_test))"
   ]
  },
  {
   "cell_type": "code",
   "execution_count": 10,
   "metadata": {},
   "outputs": [],
   "source": [
    "def compute_classes_mean_matrix(train_data,train_labels):\n",
    "\n",
    "    means = np.zeros((132,22500)) \n",
    "\n",
    "    train_test_split_ratio = 5\n",
    "\n",
    "    \n",
    "\n",
    "    for i in range(1,133):\n",
    "\n",
    "        temp =np.where(train_labels == i)[0]\n",
    "\n",
    "        temp_sum = np.zeros((1,22500)) \n",
    "\n",
    "        for j in range (train_test_split_ratio):\n",
    "            temp_sum += train_data[temp[j],:]\n",
    "            means[i-1,:] = temp_sum / train_test_split_ratio\n",
    "\n",
    "            return means"
   ]
  },
  {
   "cell_type": "code",
   "execution_count": 86,
   "metadata": {},
   "outputs": [],
   "source": [
    "mns = compute_classes_mean_matrix(X_tr, y_tr)"
   ]
  },
  {
   "cell_type": "code",
   "execution_count": 11,
   "metadata": {},
   "outputs": [],
   "source": [
    "#the overall mean for all the 167 classes\n",
    "\n",
    "#10304*1\n",
    "\n",
    "def compute_overall_mean_matrix(classes_means):\n",
    "\n",
    "    temp_sum = np.zeros((1,22500)) \n",
    "\n",
    "    for i in range(0,132):\n",
    "\n",
    "        temp_sum +=classes_means[i,:]\n",
    "\n",
    "    overall_mean = temp_sum / 132\n",
    "\n",
    "    \n",
    "\n",
    "    return overall_mean.T"
   ]
  },
  {
   "cell_type": "code",
   "execution_count": 62,
   "metadata": {},
   "outputs": [],
   "source": [
    "com = compute_overall_mean_matrix(mns)"
   ]
  },
  {
   "cell_type": "code",
   "execution_count": 63,
   "metadata": {},
   "outputs": [
    {
     "data": {
      "text/plain": [
       "array([[0.00151515],\n",
       "       [0.00151515],\n",
       "       [0.00151515],\n",
       "       ...,\n",
       "       [0.0013369 ],\n",
       "       [0.00139037],\n",
       "       [0.00134878]])"
      ]
     },
     "execution_count": 63,
     "metadata": {},
     "output_type": "execute_result"
    }
   ],
   "source": [
    "com\n"
   ]
  },
  {
   "cell_type": "code",
   "execution_count": 12,
   "metadata": {},
   "outputs": [],
   "source": [
    "def compute_between_class_scatter_matrix(classes_means,overall_mean):\n",
    "\n",
    "    n=5\n",
    "\n",
    "    #10304*10304\n",
    "\n",
    "    Sb = np.zeros((classes_means.shape[1],classes_means.shape[1]))\n",
    "\n",
    "    for i in range(classes_means.shape[0]):\n",
    "\n",
    "        Sb = np.add(Sb,n* ((classes_means[i] - overall_mean) * (classes_means[i] - overall_mean).T))\n",
    "\n",
    "    return Sb"
   ]
  },
  {
   "cell_type": "code",
   "execution_count": 13,
   "metadata": {},
   "outputs": [],
   "source": [
    "def compute_center_class_matrix(train_data,train_labels,classes_means):\n",
    "\n",
    "    Z = np.zeros(train_data.shape)\n",
    "\n",
    "    \n",
    "\n",
    "    for i in range(train_data.shape[0]):\n",
    "\n",
    "        Z[i,:] = train_data[i,:] - classes_means[int(train_labels[i])-1,:]\n",
    "\n",
    "\n",
    "\n",
    "    return Z"
   ]
  },
  {
   "cell_type": "code",
   "execution_count": 67,
   "metadata": {},
   "outputs": [],
   "source": [
    "ccm = compute_center_class_matrix(X_tr, y_tr, mns)"
   ]
  },
  {
   "cell_type": "code",
   "execution_count": 14,
   "metadata": {},
   "outputs": [],
   "source": [
    "def compute_class_scatter_matrix(Z):\n",
    "\n",
    "    S = np.zeros((22500,22500))\n",
    "\n",
    "    S = np.dot(Z.T,Z)\n",
    "\n",
    "    return S "
   ]
  },
  {
   "cell_type": "code",
   "execution_count": 70,
   "metadata": {},
   "outputs": [],
   "source": [
    "csm = compute_class_scatter_matrix(ccm)"
   ]
  },
  {
   "cell_type": "code",
   "execution_count": 15,
   "metadata": {},
   "outputs": [],
   "source": [
    "def data_dimencionality_reduction(train_data,test_data):\n",
    "\n",
    "    train_data_dimensionally_reductuted = np.zeros((1980,132)) \n",
    "\n",
    "    test_data_dimensionally_reductuted = np.zeros((1980,132)) \n",
    "\n",
    "    \n",
    "\n",
    "    i=0\n",
    "\n",
    "    for img in train_data:\n",
    "\n",
    "        train_data_dimensionally_reductuted[i,:]=np.dot(img,eigen_vectors)\n",
    "\n",
    "        i+=1\n",
    "\n",
    "    i=0\n",
    "\n",
    "    for img in test_data:\n",
    "\n",
    "        test_data_dimensionally_reductuted[i,:] = np.dot(img,eigen_vectors)\n",
    "\n",
    "        i+=1\n",
    "\n",
    "        \n",
    "\n",
    "    return train_data_dimensionally_reductuted,test_data_dimensionally_reductuted"
   ]
  },
  {
   "cell_type": "code",
   "execution_count": 16,
   "metadata": {},
   "outputs": [],
   "source": [
    "def plot_accuracy_graph(accuracy):\n",
    "\n",
    "    plt.figure(figsize=(12, 6))\n",
    "\n",
    "    plt.plot(range(1, 25), accuracy, color='red', linestyle='dashed', marker='o',\n",
    "\n",
    "         markerfacecolor='blue', markersize=10)\n",
    "\n",
    "    plt.ylim(50, 100)\n",
    "\n",
    "    plt.title('Accuracy for each K Value')\n",
    "\n",
    "    plt.xlabel('K Value')\n",
    "\n",
    "    plt.ylabel('Accuracy %')\n"
   ]
  },
  {
   "cell_type": "code",
   "execution_count": 17,
   "metadata": {},
   "outputs": [
    {
     "name": "stdout",
     "output_type": "stream",
     "text": [
      "Done Train Test Split\n",
      "-----------------------------------------------------------\n",
      "Done Train Test Split\n",
      "-----------------------------------------------------------\n",
      "Resize train and test set\n",
      "Done reshape\n",
      "-----------------------------------------------------------\n",
      "Done classes means computing\n",
      "-----------------------------------------------------------\n",
      "Done overall mean computing\n",
      "-----------------------------------------------------------\n",
      "Done between class scater matrix computing\n",
      "-----------------------------------------------------------\n",
      "Done center class scatter matrix computing\n",
      "-----------------------------------------------------------\n",
      "Done within class scatter matrix computing\n",
      "-----------------------------------------------------------\n",
      "Done W = S^(-1)B  computing\n",
      "-----------------------------------------------------------\n",
      "Done eigen values and vectors computing\n"
     ]
    },
    {
     "name": "stderr",
     "output_type": "stream",
     "text": [
      "/home/hantz_angrand72/miniconda3/lib/python3.7/site-packages/ipykernel_launcher.py:117: DataConversionWarning: A column-vector y was passed when a 1d array was expected. Please change the shape of y to (n_samples, ), for example using ravel().\n",
      "/home/hantz_angrand72/miniconda3/lib/python3.7/site-packages/ipykernel_launcher.py:117: DataConversionWarning: A column-vector y was passed when a 1d array was expected. Please change the shape of y to (n_samples, ), for example using ravel().\n",
      "/home/hantz_angrand72/miniconda3/lib/python3.7/site-packages/ipykernel_launcher.py:117: DataConversionWarning: A column-vector y was passed when a 1d array was expected. Please change the shape of y to (n_samples, ), for example using ravel().\n",
      "/home/hantz_angrand72/miniconda3/lib/python3.7/site-packages/ipykernel_launcher.py:117: DataConversionWarning: A column-vector y was passed when a 1d array was expected. Please change the shape of y to (n_samples, ), for example using ravel().\n",
      "/home/hantz_angrand72/miniconda3/lib/python3.7/site-packages/ipykernel_launcher.py:117: DataConversionWarning: A column-vector y was passed when a 1d array was expected. Please change the shape of y to (n_samples, ), for example using ravel().\n",
      "/home/hantz_angrand72/miniconda3/lib/python3.7/site-packages/ipykernel_launcher.py:117: DataConversionWarning: A column-vector y was passed when a 1d array was expected. Please change the shape of y to (n_samples, ), for example using ravel().\n",
      "/home/hantz_angrand72/miniconda3/lib/python3.7/site-packages/ipykernel_launcher.py:117: DataConversionWarning: A column-vector y was passed when a 1d array was expected. Please change the shape of y to (n_samples, ), for example using ravel().\n",
      "/home/hantz_angrand72/miniconda3/lib/python3.7/site-packages/ipykernel_launcher.py:117: DataConversionWarning: A column-vector y was passed when a 1d array was expected. Please change the shape of y to (n_samples, ), for example using ravel().\n",
      "/home/hantz_angrand72/miniconda3/lib/python3.7/site-packages/ipykernel_launcher.py:117: DataConversionWarning: A column-vector y was passed when a 1d array was expected. Please change the shape of y to (n_samples, ), for example using ravel().\n",
      "/home/hantz_angrand72/miniconda3/lib/python3.7/site-packages/ipykernel_launcher.py:117: DataConversionWarning: A column-vector y was passed when a 1d array was expected. Please change the shape of y to (n_samples, ), for example using ravel().\n",
      "/home/hantz_angrand72/miniconda3/lib/python3.7/site-packages/ipykernel_launcher.py:117: DataConversionWarning: A column-vector y was passed when a 1d array was expected. Please change the shape of y to (n_samples, ), for example using ravel().\n",
      "/home/hantz_angrand72/miniconda3/lib/python3.7/site-packages/ipykernel_launcher.py:117: DataConversionWarning: A column-vector y was passed when a 1d array was expected. Please change the shape of y to (n_samples, ), for example using ravel().\n",
      "/home/hantz_angrand72/miniconda3/lib/python3.7/site-packages/ipykernel_launcher.py:117: DataConversionWarning: A column-vector y was passed when a 1d array was expected. Please change the shape of y to (n_samples, ), for example using ravel().\n",
      "/home/hantz_angrand72/miniconda3/lib/python3.7/site-packages/ipykernel_launcher.py:117: DataConversionWarning: A column-vector y was passed when a 1d array was expected. Please change the shape of y to (n_samples, ), for example using ravel().\n",
      "/home/hantz_angrand72/miniconda3/lib/python3.7/site-packages/ipykernel_launcher.py:117: DataConversionWarning: A column-vector y was passed when a 1d array was expected. Please change the shape of y to (n_samples, ), for example using ravel().\n",
      "/home/hantz_angrand72/miniconda3/lib/python3.7/site-packages/ipykernel_launcher.py:117: DataConversionWarning: A column-vector y was passed when a 1d array was expected. Please change the shape of y to (n_samples, ), for example using ravel().\n",
      "/home/hantz_angrand72/miniconda3/lib/python3.7/site-packages/ipykernel_launcher.py:117: DataConversionWarning: A column-vector y was passed when a 1d array was expected. Please change the shape of y to (n_samples, ), for example using ravel().\n",
      "/home/hantz_angrand72/miniconda3/lib/python3.7/site-packages/ipykernel_launcher.py:117: DataConversionWarning: A column-vector y was passed when a 1d array was expected. Please change the shape of y to (n_samples, ), for example using ravel().\n",
      "/home/hantz_angrand72/miniconda3/lib/python3.7/site-packages/ipykernel_launcher.py:117: DataConversionWarning: A column-vector y was passed when a 1d array was expected. Please change the shape of y to (n_samples, ), for example using ravel().\n",
      "/home/hantz_angrand72/miniconda3/lib/python3.7/site-packages/ipykernel_launcher.py:117: DataConversionWarning: A column-vector y was passed when a 1d array was expected. Please change the shape of y to (n_samples, ), for example using ravel().\n",
      "/home/hantz_angrand72/miniconda3/lib/python3.7/site-packages/ipykernel_launcher.py:117: DataConversionWarning: A column-vector y was passed when a 1d array was expected. Please change the shape of y to (n_samples, ), for example using ravel().\n",
      "/home/hantz_angrand72/miniconda3/lib/python3.7/site-packages/ipykernel_launcher.py:117: DataConversionWarning: A column-vector y was passed when a 1d array was expected. Please change the shape of y to (n_samples, ), for example using ravel().\n",
      "/home/hantz_angrand72/miniconda3/lib/python3.7/site-packages/ipykernel_launcher.py:117: DataConversionWarning: A column-vector y was passed when a 1d array was expected. Please change the shape of y to (n_samples, ), for example using ravel().\n",
      "/home/hantz_angrand72/miniconda3/lib/python3.7/site-packages/ipykernel_launcher.py:117: DataConversionWarning: A column-vector y was passed when a 1d array was expected. Please change the shape of y to (n_samples, ), for example using ravel().\n"
     ]
    },
    {
     "data": {
      "image/png": "[encoded data removed]",
      "text/plain": [
       "<Figure size 864x432 with 1 Axes>"
      ]
     },
     "metadata": {
      "needs_background": "light"
     },
     "output_type": "display_data"
    }
   ],
   "source": [
    "if  __name__ == '__main__':\n",
    "\n",
    "    \n",
    "\n",
    "    #data,labels = read_image()\n",
    "\n",
    "    #print('Done images reading')\n",
    "\n",
    "    #print('-----------------------------------------------------------')\n",
    "\n",
    "    \n",
    "\n",
    "    #train_data,train_labels,test_data,test_labels = train_test_split(data,labels)\n",
    "\n",
    "    \n",
    "\n",
    "    print('Done Train Test Split')\n",
    "\n",
    "    print('-----------------------------------------------------------')\n",
    "    \n",
    "   # X_train, X_test, y_train, y_test  = create_data_set()\n",
    "    \n",
    "    print('Done Train Test Split')\n",
    "    print('-----------------------------------------------------------')\n",
    "\n",
    "    print(\"Resize train and test set\")\n",
    "    \n",
    "    #X_tr=X_train.reshape(X_train.shape[0],X_train.shape[1]*X_train.shape[2])\n",
    "    \n",
    "    #y_tr=y_train.reshape(y_train.shape[0]*y_train.shape[1],1)\n",
    "    \n",
    "    #X_tst=X_test.reshape(X_test.shape[0],X_test.shape[1]*X_test.shape[2])\n",
    "    \n",
    "    #y_tst=y_test.reshape(y_test.shape[0]*y_test.shape[1],1)\n",
    "    \n",
    "    #print(np.shape(X_tst), np.size(X_tst))\n",
    "    \n",
    "    \n",
    "    print('Done reshape')\n",
    "    print('-----------------------------------------------------------')\n",
    "\n",
    "    #classes_means = compute_classes_mean_matrix(X_train,y_train)\n",
    "          \n",
    "    print('Done classes means computing')\n",
    "\n",
    "    print('-----------------------------------------------------------')\n",
    "\n",
    "    \n",
    "\n",
    "    #overall_mean = compute_overall_mean_matrix(classes_means)\n",
    "\n",
    "    print('Done overall mean computing')\n",
    "\n",
    "    print('-----------------------------------------------------------')\n",
    "\n",
    "    \n",
    "\n",
    "    #S_between = compute_between_class_scatter_matrix(classes_means,overall_mean)\n",
    "\n",
    "    print('Done between class scater matrix computing')\n",
    "\n",
    "    print('-----------------------------------------------------------')\n",
    "\n",
    "    \n",
    "\n",
    "    #Z = compute_center_class_matrix(X_train,y_train,classes_means)\n",
    "\n",
    "    print('Done center class scatter matrix computing')\n",
    "\n",
    "    print('-----------------------------------------------------------')\n",
    "\n",
    "    \n",
    "\n",
    "    #S_classes = compute_class_scatter_matrix(Z)\n",
    "\n",
    "    print('Done within class scatter matrix computing')\n",
    "\n",
    "    print('-----------------------------------------------------------')\n",
    "\n",
    "    \n",
    "\n",
    "    #W_value = np.dot(np.linalg.inv(S_classes),S_between)\n",
    "\n",
    "    print('Done W = S^(-1)B  computing')\n",
    "\n",
    "    print('-----------------------------------------------------------')\n",
    "\n",
    "    \n",
    "\n",
    "    #132 largest eigen values\n",
    "\n",
    "    #eigen_values,eigen_vectors = scipy.linalg.eigh(W_value,eigvals=((22500-132),(22500-1)))\n",
    "\n",
    "    print('Done eigen values and vectors computing')\n",
    "    #eigv=eigen_vectors.reshape(132, 22500)\n",
    "\n",
    "    #print(np.shape(eigen_values),np.shape(eigv))\n",
    "\n",
    "    \n",
    "\n",
    "    #reduce dimensionality of both train and test data sets\n",
    "\n",
    "    #train_data_dimensionally_reductuted,test_data_dimensionally_reductuted = data_dimencionality_reduction(X_train,X_test)\n",
    "\n",
    "    \n",
    "\n",
    "\n",
    "\n",
    "    accuracy = []\n",
    "\n",
    "    #Apply KNN\n",
    "\n",
    "    for i in range(1, 25):\n",
    "\n",
    "        classifier = KNeighborsClassifier(n_neighbors=i)\n",
    "\n",
    "        classifier.fit(train_data_dimensionally_reductuted, y_train)\n",
    "\n",
    "    \n",
    "\n",
    "        test_predict = classifier.predict(test_data_dimensionally_reductuted)\n",
    "\n",
    "        \n",
    "\n",
    "        true_predicted_count=0\n",
    "\n",
    "        for j in range(0,150):\n",
    "\n",
    "            if test_predict[j] ==y_test[j]:\n",
    "\n",
    "                true_predicted_count+=1\n",
    "\n",
    "        accuracy.append((true_predicted_count/150)*100)\n",
    "\n",
    "    \n",
    "\n",
    "    #plot graph for different K values\n",
    "\n",
    "    plot_accuracy_graph(accuracy) \n"
   ]
  },
  {
   "cell_type": "code",
   "execution_count": 18,
   "metadata": {},
   "outputs": [],
   "source": [
    "def acc_avg():\n",
    "    acc=0\n",
    "    for i in accuracy:\n",
    "        acc = acc + i\n",
    "    avg_acc = acc/len(accuracy)\n",
    "    return avg_acc"
   ]
  },
  {
   "cell_type": "code",
   "execution_count": 19,
   "metadata": {},
   "outputs": [
    {
     "name": "stdout",
     "output_type": "stream",
     "text": [
      "Average accurayc rate 93.16666666666667\n"
     ]
    }
   ],
   "source": [
    "print(\"Average accurayc rate\", acc_avg())"
   ]
  }
 ],
 "metadata": {
  "kernelspec": {
   "display_name": "Python 3",
   "language": "python",
   "name": "python3"
  },
  "language_info": {
   "codemirror_mode": {
    "name": "ipython",
    "version": 3
   },
   "file_extension": ".py",
   "mimetype": "text/x-python",
   "name": "python",
   "nbconvert_exporter": "python",
   "pygments_lexer": "ipython3",
   "version": "3.7.4"
  }
 },
 "nbformat": 4,
 "nbformat_minor": 2
}
